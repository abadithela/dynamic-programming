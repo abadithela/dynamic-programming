{
 "cells": [
  {
   "cell_type": "code",
   "execution_count": 5,
   "id": "1de47a98",
   "metadata": {},
   "outputs": [],
   "source": [
    "import numpy as np\n",
    "import matplotlib.pyplot as plt\n",
    "import control as ct\n",
    "import control.optimal as opt\n",
    "import networkx as nx\n",
    "import tulip\n",
    "import os\n"
   ]
  },
  {
   "cell_type": "code",
   "execution_count": 6,
   "id": "f07a1004",
   "metadata": {},
   "outputs": [],
   "source": [
    "# Define a discrete transition system (with or without probabilities):\n",
    "nrows = 10\n",
    "ncols = 10\n",
    "nodes = np.linspace(1,nrows*ncols, nrows*ncols)\n",
    "G = nx.Graph()\n",
    "G.add_nodes_from"
   ]
  },
  {
   "cell_type": "code",
   "execution_count": null,
   "id": "1a72af68",
   "metadata": {},
   "outputs": [],
   "source": []
  },
  {
   "cell_type": "code",
   "execution_count": null,
   "id": "594ca021",
   "metadata": {},
   "outputs": [],
   "source": []
  }
 ],
 "metadata": {
  "kernelspec": {
   "display_name": "Python 3 (ipykernel)",
   "language": "python",
   "name": "python3"
  },
  "language_info": {
   "codemirror_mode": {
    "name": "ipython",
    "version": 3
   },
   "file_extension": ".py",
   "mimetype": "text/x-python",
   "name": "python",
   "nbconvert_exporter": "python",
   "pygments_lexer": "ipython3",
   "version": "3.8.12"
  }
 },
 "nbformat": 4,
 "nbformat_minor": 5
}
